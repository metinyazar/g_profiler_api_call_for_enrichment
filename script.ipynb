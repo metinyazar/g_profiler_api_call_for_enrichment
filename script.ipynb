{
 "cells": [
  {
   "cell_type": "code",
   "execution_count": null,
   "id": "a8198f3a",
   "metadata": {},
   "outputs": [
    {
     "name": "stdout",
     "output_type": "stream",
     "text": [
      "Enrichment successful. Found 467 terms.\n",
      "Top-level keys in result: dict_keys(['result', 'meta'])\n",
      "GO:BP results saved to go_bp_enrichment_results.csv\n",
      "CORUM results saved to corum_enrichment_results.csv\n"
     ]
    }
   ],
   "source": [
    "import requests\n",
    "import pandas as pd\n",
    "\n",
    "# Extended gene list\n",
    "gene_list = [\n",
    "    \"TP53\", \"BRCA1\", \"BRCA2\", \"EGFR\", \"PIK3CA\", \"PTEN\", \"KRAS\", \"NRAS\", \"HRAS\",\n",
    "    \"AKT1\", \"AKT2\", \"CDK1\", \"CDK2\", \"CDK4\", \"CDK6\", \"CCND1\", \"CCNE1\", \"RB1\",\n",
    "    \"MYC\", \"MYCN\", \"MDM2\", \"ATM\", \"ATR\", \"CHEK1\", \"CHEK2\", \"BCL2\", \"BAX\", \"CASP3\"\n",
    "] # gene list \n",
    "\n",
    "url = \"https://biit.cs.ut.ee/gprofiler/api/gost/profile/\"\n",
    "\n",
    "payload = {\n",
    "    \"organism\": \"hsapiens\",\n",
    "    \"query\": gene_list,\n",
    "    \"sources\": [\"GO:BP\", \"CORUM\"], #change the source names as needed\n",
    "    \"user_threshold\": 0.05,\n",
    "    \"domain_scope\": \"annotated\"\n",
    "}\n",
    "\n",
    "response = requests.post(url, json=payload)\n",
    "\n",
    "if response.status_code == 200:\n",
    "    result = response.json()\n",
    "    print(\"Enrichment successful. Found\", len(result[\"result\"]), \"terms.\")\n",
    "    print(\"Top-level keys in result:\", result.keys())  # Debug check\n",
    "\n",
    "    gene_symbols = gene_list  # fallback if genes_metadata is not available\n",
    "\n",
    "    # Add gene symbols for each enriched term\n",
    "    for entry in result[\"result\"]:\n",
    "        entry[\"genes_with_evidence\"] = [\n",
    "            gene for gene, evidence in zip(gene_symbols, entry[\"intersections\"]) if evidence\n",
    "        ]\n",
    "\n",
    "    # Create full DataFrame\n",
    "    full_df = pd.DataFrame(result[\"result\"])\n",
    "    full_df[\"genes_with_evidence\"] = full_df[\"genes_with_evidence\"].apply(lambda x: \", \".join(x))\n",
    "\n",
    "    # Select common columns\n",
    "    selected_cols = ['source', 'name', 'native', 'significant', 'p_value', 'term_size',\n",
    "                     'query_size', 'intersection_size', 'effective_domain_size', 'genes_with_evidence']\n",
    "\n",
    "    # Filter into GO:BP and CORUM\n",
    "    go_df = full_df[full_df[\"source\"] == \"GO:BP\"][selected_cols]\n",
    "    corum_df = full_df[full_df[\"source\"] == \"CORUM\"][selected_cols]\n",
    "\n",
    "    # Save each to its own file\n",
    "    go_df.to_csv(\"go_bp_enrichment_results.csv\", index=False)\n",
    "    corum_df.to_csv(\"corum_enrichment_results.csv\", index=False)\n",
    "\n",
    "    print(\"GO:BP results saved to go_bp_enrichment_results.csv\")\n",
    "    print(\"CORUM results saved to corum_enrichment_results.csv\")\n",
    "\n",
    "else:\n",
    "    print(\"API call failed with status code:\", response.status_code)\n",
    "    print(\"Error message:\", response.text)\n"
   ]
  },
  {
   "cell_type": "code",
   "execution_count": null,
   "id": "6bd4e993",
   "metadata": {},
   "outputs": [],
   "source": []
  }
 ],
 "metadata": {
  "kernelspec": {
   "display_name": "main",
   "language": "python",
   "name": "python3"
  },
  "language_info": {
   "codemirror_mode": {
    "name": "ipython",
    "version": 3
   },
   "file_extension": ".py",
   "mimetype": "text/x-python",
   "name": "python",
   "nbconvert_exporter": "python",
   "pygments_lexer": "ipython3",
   "version": "3.12.9"
  }
 },
 "nbformat": 4,
 "nbformat_minor": 5
}
